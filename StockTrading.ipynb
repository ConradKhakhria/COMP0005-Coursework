{
 "cells": [
  {
   "cell_type": "markdown",
   "metadata": {},
   "source": [
    "# Stock Trading"
   ]
  },
  {
   "cell_type": "markdown",
   "metadata": {},
   "source": [
    "The cell below defines the **abstract class** whose API you need to implement. **Do NOT modify it** - use the dedicated cell further below for your implementation instead."
   ]
  },
  {
   "cell_type": "code",
   "execution_count": 21,
   "metadata": {},
   "outputs": [],
   "source": [
    "# DO NOT MODIFY THIS CELL\n",
    "\n",
    "from abc import ABC, abstractmethod  \n",
    "      \n",
    "\n",
    "# abstract class to represent a stock trading platform\n",
    "class AbstractStockTradingPlatform(ABC):\n",
    "    \n",
    "    # constructor\n",
    "    @abstractmethod\n",
    "    def __init__(self):\n",
    "        pass           \n",
    "        \n",
    "    # adds transactionRecord to the set of completed transactions\n",
    "    @abstractmethod\n",
    "    def logTransaction(self, transactionRecord):\n",
    "        pass\n",
    "\n",
    "    # returns a list with all transactions of a given stockName,\n",
    "    # sorted by increasing trade value. \n",
    "    # stockName : str\n",
    "    @abstractmethod\n",
    "    def sortedTransactions(self, stockName): \n",
    "        sortedList = []\n",
    "        return sortedList    \n",
    "    \n",
    "    # returns a list of transactions of a given stockName with minimum trade value\n",
    "    # stockName : str\n",
    "    @abstractmethod\n",
    "    def minTransactions(self, stockName): \n",
    "        minList = []\n",
    "        return minList    \n",
    "    \n",
    "    # returns a list of transactions of a given stockName with maximum trade value\n",
    "    # stockName : str\n",
    "    @abstractmethod\n",
    "    def maxTransactions(self, stockName): \n",
    "        maxList = []\n",
    "        return maxList    \n",
    "\n",
    "    # returns a list of transactions of a given stockName, \n",
    "    # with the largest trade value below a given thresholdValue.  \n",
    "    # stockName : str\n",
    "    # thresholdValue : double\n",
    "    @abstractmethod\n",
    "    def floorTransactions(self, stockName, thresholdValue): \n",
    "        floorList = []\n",
    "        return floorList    \n",
    "\n",
    "    # returns a list of transactions of a given stockName, \n",
    "    # with the smallest trade value above a given thresholdValue.  \n",
    "    # stockName : str\n",
    "    # thresholdValue : double\n",
    "    @abstractmethod\n",
    "    def ceilingTransactions(self, stockName, thresholdValue): \n",
    "        ceilingList = []\n",
    "        return ceilingList    \n",
    "\n",
    "        \n",
    "    # returns a list of transactions of a given stockName,  \n",
    "    # whose trade value is within the range [fromValue, toValue].\n",
    "    # stockName : str\n",
    "    # fromValue : double\n",
    "    # toValue : double\n",
    "    @abstractmethod\n",
    "    def rangeTransactions(self, stockName, fromValue, toValue): \n",
    "        rangeList = []\n",
    "        return rangeList    "
   ]
  },
  {
   "cell_type": "markdown",
   "metadata": {},
   "source": [
    "Use the cell below to define any data structure and auxiliary python function you may need. Leave the implementation of the main API to the next code cell instead."
   ]
  },
  {
   "cell_type": "code",
   "execution_count": 22,
   "metadata": {},
   "outputs": [],
   "source": [
    "# ADD AUXILIARY DATA STRUCTURE DEFINITIONS AND HELPER CODE HERE\n",
    "\n",
    "class TransactionRecord:\n",
    "    def __init__(self, price: float, quantity: int, time: str) -> None:\n",
    "        self.price = price\n",
    "        self.quantity = quantity\n",
    "        self.time = time\n",
    "\n",
    "    def tradeValue(self) -> float:\n",
    "        \"\"\"\n",
    "        Returns the value of the trade\n",
    "        \"\"\"\n",
    "        return self.price * self.quantity\n",
    "\n",
    "\n",
    "class AVLNode:\n",
    "    def __init__(self,  initialPair = None):\n",
    "        if initialPair is None:\n",
    "            self._key = None\n",
    "            self._values = []\n",
    "            self._left = None\n",
    "            self._right = None\n",
    "        else:\n",
    "            self._key = initialPair[0]\n",
    "            self._values = [initialPair[1]]\n",
    "            self._left = AVLNode(None)\n",
    "            self._right = AVLNode(None)\n",
    "\n",
    "\n",
    "    def __repr__(self) -> str:\n",
    "        def _internal_repr(node: AVLNode, indent: int) -> str:\n",
    "            if node.isLeaf():\n",
    "                return \"None\"\n",
    "\n",
    "            spaces = \" \" * indent\n",
    "            string = \"\\n\"\n",
    "            l_repr = _internal_repr(node._left, indent + 4)\n",
    "            r_repr = _internal_repr(node._right, indent + 4)\n",
    "\n",
    "            string += f\"{spaces}{node._key} : {node._values}\\n\"\n",
    "            string += f\"{spaces}left: {l_repr}\\n\"\n",
    "            string += f\"{spaces}right: {r_repr}\"\n",
    "\n",
    "            return string\n",
    "\n",
    "        return _internal_repr(self, 0)\n",
    "\n",
    "\n",
    "    def balance(self, insertPath: [int]) -> None:\n",
    "        \"\"\"\n",
    "        Recursively balances a tree\n",
    "        \"\"\"\n",
    "        if len(insertPath) < 2:\n",
    "            return\n",
    "\n",
    "        *remainingInsertPath, childInsertDirection = insertPath\n",
    "        grandchildInsertDirection = remainingInsertPath[-1]\n",
    "\n",
    "        if childInsertDirection == -1:\n",
    "            self._left.balance(remainingInsertPath)\n",
    "        else:\n",
    "            self._right.balance(remainingInsertPath)\n",
    "\n",
    "        left_height  = self._left.height()\n",
    "        right_height = self._right.height()\n",
    "\n",
    "        # If unbalanced, rotate according to the path\n",
    "        if abs(left_height - right_height) > 1:\n",
    "            if childInsertDirection == -1:\n",
    "                if grandchildInsertDirection == -1:\n",
    "                    self.rightRotate()\n",
    "                else:\n",
    "                    self.leftRightRotate()\n",
    "            else:\n",
    "                if grandchildInsertDirection == -1:\n",
    "                    self.rightLeftRotate()\n",
    "                else:\n",
    "                    self.leftRotate()\n",
    "\n",
    "\n",
    "\n",
    "    def height(self) -> int:\n",
    "        \"\"\"\n",
    "        Gets the height of a tree\n",
    "        \"\"\"\n",
    "        if self.isLeaf():\n",
    "            return 0\n",
    "        else:\n",
    "            return 1 + max(self._left.height(), self._right.height())\n",
    "\n",
    "\n",
    "    def insert(self, key, value, comp) -> [int]:\n",
    "        \"\"\"\n",
    "        Inserts a key/value pair into the tree\n",
    "\n",
    "        returns a list containing the insertion path,\n",
    "        adding amember as follows:\n",
    "            if inserted into the left branch: -1\n",
    "            if inserted into the right branch: 1\n",
    "            otherwise, returns an empty list\n",
    "        \"\"\"\n",
    "        path = []\n",
    "\n",
    "        if self.isLeaf():\n",
    "            self._key = key\n",
    "            self._values = [value]\n",
    "            self._left  = AVLNode(None)\n",
    "            self._right = AVLNode(None)\n",
    "        else:\n",
    "            x = comp(key)\n",
    "            y = comp(self._key)\n",
    "            path = []\n",
    "\n",
    "            if x < y:\n",
    "                path = self._left.insert(key, value, comp)\n",
    "                path.append(-1)\n",
    "            elif x > y:\n",
    "                path = self._right.insert(key, value, comp)\n",
    "                path.append(1)\n",
    "            else:\n",
    "                self._values.append(value)\n",
    "\n",
    "        return path\n",
    "\n",
    "\n",
    "    def isLeaf(self) -> bool:\n",
    "        \"\"\"\n",
    "        Leaves are internally represented as nodes whose value is None.\n",
    "        This returns whether self._value is None\n",
    "        \"\"\"\n",
    "        return self._key is None\n",
    "\n",
    "    \n",
    "    \"\"\"\n",
    "    Rotations\n",
    "    \"\"\"\n",
    "\n",
    "\n",
    "    def leftRotate(self) -> None:\n",
    "        \"\"\"\n",
    "        Performs a left rotation on self\n",
    "        \"\"\"\n",
    "        if not self.isLeaf() and not self._right.isLeaf():\n",
    "            newLeft = AVLNode((self._key, self._values[0]))\n",
    "            newLeft._values = [v for v in self._values]\n",
    "            newLeft._left   = self._left\n",
    "            newLeft._right  = self._right._left\n",
    "\n",
    "            self._key    = self._right._key\n",
    "            self._values = [v for v in self._right._values]\n",
    "            self._right  = self._right._right\n",
    "            self._left   = newLeft\n",
    "\n",
    "\n",
    "    def rightRotate(self) -> None:\n",
    "        \"\"\"\n",
    "        Performs a right rotation on self\n",
    "        \"\"\"\n",
    "        if not self.isLeaf() and not self._left.isLeaf():\n",
    "            newRight = AVLNode((self._key, self._values[0]))\n",
    "            newRight._values = [v for v in self._values]\n",
    "            newRight._right  = self._right\n",
    "            newRight._left   = self._left._right\n",
    "\n",
    "            self._key    = self._left._key\n",
    "            self._values = [v for v in self._left._values]\n",
    "            self._left   = self._left._left\n",
    "            self._right  = newRight\n",
    "\n",
    "\n",
    "    def leftRightRotate(self) -> None:\n",
    "        \"\"\"\n",
    "        Performs a left right rotation on self\n",
    "        \"\"\"\n",
    "        if not self.isLeaf() and not self._left.isLeaf():\n",
    "            self._left.leftRotate()\n",
    "            self.rightRotate()\n",
    "\n",
    "\n",
    "    def rightLeftRotate(self) -> None:\n",
    "        \"\"\"\n",
    "        Performs a right left rotation on self\n",
    "        \"\"\"\n",
    "        if not self.isLeaf() and not self._right.isLeaf():\n",
    "            self._right.rightRotate()\n",
    "            self.leftRotate()\n",
    "\n",
    "\n",
    "    \"\"\"\n",
    "    Helpers for StockTradingPlatform\n",
    "    \"\"\"\n",
    "        \n",
    "\n",
    "    def ceilingValues(self, key) -> (float, list):\n",
    "        \"\"\"\n",
    "        Gets all values whose key is the lowest above a supplied key\n",
    "\n",
    "        Returns: (key, values)\n",
    "        \"\"\"\n",
    "\n",
    "        if self.isLeaf():\n",
    "            return (float(\"-inf\"), [])\n",
    "\n",
    "        if self._key == key:\n",
    "            return (key, self._values)\n",
    "\n",
    "        if self._key < key:\n",
    "            return self._right.ceilingValues(key)\n",
    "\n",
    "        ceilKey, ceilVals = self._left.ceilingValues(key)\n",
    "\n",
    "        if ceilKey < key:\n",
    "            return (key, self._values)\n",
    "        else:\n",
    "            return (ceilKey, ceilVals)\n",
    "\n",
    "\n",
    "    def floorValues(self, key) -> (float, list):\n",
    "        \"\"\"\n",
    "        Gets all values whose key is the highest below the supplied key\n",
    "\n",
    "        Returns: (key, values)\n",
    "        \"\"\"\n",
    "\n",
    "        if self.isLeaf():\n",
    "            return (float(\"inf\"), [])\n",
    "\n",
    "        if self._key == key:\n",
    "            return (key, self._values)\n",
    "\n",
    "        if self._key > key:\n",
    "            return self._left.floorValues(key)\n",
    "\n",
    "        floorKey, floorVals = self._right.floorValues(key)\n",
    "\n",
    "        if floorKey > key:\n",
    "            return (key, self._values)\n",
    "        else:\n",
    "            return (floorKey, floorVals)\n",
    "\n",
    "    \n",
    "    def rangeValues(self, fromKey, toKey, vals) -> None:\n",
    "        \"\"\"\n",
    "        Gets all values from nodes whose keys are in [fromKey, toKey]\n",
    "        \"\"\"\n",
    "\n",
    "        if self.isLeaf():\n",
    "            return\n",
    "\n",
    "        if self._key < fromKey:\n",
    "            self._right.rangeValues(fromKey, toKey, vals)\n",
    "        elif fromKey == self._key < toKey:\n",
    "            vals += self._values\n",
    "            self._right.rangeValues(fromKey, toKey, vals)\n",
    "        elif fromKey < self._key < toKey:\n",
    "            self._left.rangeValues(fromKey, toKey, vals)\n",
    "            vals += self._values\n",
    "            self._right.rangeValues(fromKey, toKey, vals)\n",
    "        elif fromKey < self._key == toKey:\n",
    "            self._left.rangeValues(fromKey, toKey, vals)\n",
    "            vals += self._values\n",
    "        else:\n",
    "            self._left.rangeValues(fromKey, toKey, vals)\n",
    "\n",
    "\n",
    "class AVLTree:\n",
    "    def __init__(self, comp = lambda x : x) -> None:\n",
    "        self.rootNode = AVLNode(None)\n",
    "        self.comp = comp\n",
    "\n",
    "\n",
    "    def __repr__(self) -> str:\n",
    "        return f\"{self.rootNode}\"\n",
    "\n",
    "\n",
    "    def insert(self, key, value) -> None:\n",
    "        \"\"\"\n",
    "        Adds a value to the tree \n",
    "        \"\"\"\n",
    "        path = self.rootNode.insert(key, value, self.comp)\n",
    "        self.rootNode.balance(path)\n",
    "\n",
    "\n",
    "\n",
    "    def makeSortedList(self) -> list:\n",
    "        \"\"\"\n",
    "        Creates a list from the tree in ascending order\n",
    "        \"\"\"\n",
    "        def rec_msl(node: AVLNode, collected: [AVLNode]) -> None:\n",
    "            if not node.isLeaf():\n",
    "                rec_msl(node._left, collected)\n",
    "                collected.append(node)\n",
    "                rec_msl(node._right, collected)\n",
    "\n",
    "        nodes = []\n",
    "        rec_msl(self.rootNode, nodes)\n",
    "\n",
    "        return nodes\n"
   ]
  },
  {
   "cell_type": "markdown",
   "metadata": {},
   "source": [
    "Use the cell below to implement the requested API. "
   ]
  },
  {
   "cell_type": "code",
   "execution_count": 23,
   "metadata": {},
   "outputs": [],
   "source": [
    "# IMPLEMENT HERE THE REQUESTED API\n",
    "\n",
    "class StockTradingPlatform(AbstractStockTradingPlatform):\n",
    "    \n",
    "    def __init__(self):\n",
    "        self.recordDict: { str : AVLTree } = {}\n",
    "        \n",
    "\n",
    "    def logTransaction(self, transactionRecord):\n",
    "        \"\"\"\n",
    "        Adds a transaction to recordDict\n",
    "        \n",
    "        The stock name is used as the key in self.recordDict\n",
    "        \"\"\"\n",
    "        name, *values = transactionRecord\n",
    "        transaction = TransactionRecord(*values)\n",
    "\n",
    "        if name not in self.recordDict:\n",
    "            self.recordDict[name] = AVLTree()\n",
    "\n",
    "        self.recordDict[name].insert(transaction.tradeValue(), transaction)\n",
    "\n",
    "\n",
    "    def sortedTransactions(self, stockName):\n",
    "        \"\"\"\n",
    "        Returns a list of all transactions in order of their trade value\n",
    "        \"\"\"\n",
    "        if stockName in self.recordDict:\n",
    "            nodeList = self.recordDict[stockName].makeSortedList()\n",
    "            return [tr for node in nodeList for tr in node._values]\n",
    "        else:\n",
    "            print(\"stock name is not in dictionary\")\n",
    "            return []\n",
    "\n",
    "    \n",
    "    def minTransactions(self, stockName):\n",
    "        \"\"\"\n",
    "        Returns all transactions with the lowest trade value\n",
    "        \"\"\"\n",
    "        if (tree := self.recordDict.get(stockName)) is not None:\n",
    "            nodeCursor = tree.rootNode\n",
    "\n",
    "            while not nodeCursor._left.isLeaf():\n",
    "                nodeCursor = nodeCursor._left\n",
    "\n",
    "            return nodeCursor._values\n",
    "        else:\n",
    "            print(\"stock name is not in dictionary\")\n",
    "            return []\n",
    "\n",
    "    \n",
    "    def maxTransactions(self, stockName): \n",
    "        \"\"\"\n",
    "        Returns all transactions with the highest trade value\n",
    "        \"\"\"\n",
    "        if (tree := self.recordDict.get(stockName)) is not None:\n",
    "            nodeCursor = tree.rootNode\n",
    "\n",
    "            while not nodeCursor._right.isLeaf():\n",
    "                nodeCursor = nodeCursor._right\n",
    "\n",
    "            return nodeCursor._values\n",
    "        else:\n",
    "            print(\"stock name is not in dictionary\")\n",
    "            return []\n",
    "\n",
    "\n",
    "    def floorTransactions(self, stockName, thresholdValue): \n",
    "        \"\"\"\n",
    "        Returns the transactions of stockName with the largest trade\n",
    "        value below thresholdValue\n",
    "        \"\"\"\n",
    "\n",
    "        # All trade values will in pence so only 2 decimal places will be used.\n",
    "        # Therefore too find the floor transaction < thresholdValue and not\n",
    "        # == thresholdValue, we subtract half a penny.\n",
    "        thresholdValue -= 0.005\n",
    "    \n",
    "        \n",
    "        if (tree := self.recordDict.get(stockName)) is not None:\n",
    "            return tree.rootNode.floorValues(thresholdValue)[1]\n",
    "        else:\n",
    "            return []\n",
    "\n",
    "\n",
    "    def ceilingTransactions(self, stockName, thresholdValue): \n",
    "        \"\"\"\n",
    "        Returns the transactions of stockName with the lowest trade\n",
    "        value above thresholdValue\n",
    "        \"\"\"\n",
    "\n",
    "        # Same as flooatTransactions but we add half a penny\n",
    "        thresholdValue += 0.005\n",
    "        \n",
    "        if (tree := self.recordDict.get(stockName)) is not None:\n",
    "            return tree.rootNode.ceilingValues(thresholdValue)[1]\n",
    "        else:\n",
    "            return []\n",
    "\n",
    "    \n",
    "    def rangeTransactions(self, stockName, fromValue, toValue): \n",
    "        \"\"\"\n",
    "        Gets all transactions whose trade value is in [fromValue, toValue]\n",
    "        \"\"\"\n",
    "\n",
    "        if (tree := self.recordDict.get(stockName)) is not None:\n",
    "            rangeValues = []\n",
    "            tree.rootNode.rangeValues(fromValue, toValue, rangeValues)\n",
    "\n",
    "            return rangeValues\n",
    "        else:\n",
    "            return []\n",
    "\n",
    "    def loadData(self, dataset):\n",
    "        # helper function for logging the transactions from dataset\n",
    "        for data in dataset:\n",
    "            self.logTransaction(data)\n",
    "        "
   ]
  },
  {
   "cell_type": "markdown",
   "metadata": {},
   "source": [
    "The cell below provides helper code that you can use within your experimental framework to generate random transaction data. **Do NOT modify it**."
   ]
  },
  {
   "cell_type": "code",
   "execution_count": 24,
   "metadata": {},
   "outputs": [],
   "source": [
    "# DO NOT MODIFY THIS CELL\n",
    "\n",
    "import random\n",
    "from datetime import timedelta\n",
    "from datetime import datetime\n",
    "\n",
    "class TransactionDataGenerator:\n",
    "    def __init__(self):\n",
    "        self.stockNames = [\"Barclays\", \"HSBA\", \"Lloyds Banking Group\", \"NatWest Group\", \n",
    "                      \"Standard Chartered\", \"3i\", \"Abrdn\", \"Hargreaves Lansdown\", \n",
    "                      \"London Stock Exchange Group\", \"Pershing Square Holdings\", \n",
    "                      \"Schroders\", \"St. James's Place plc.\"]\n",
    "        self.minTradeValue = 500.00\n",
    "        self.maxTradeValue = 100000.00\n",
    "        self.startDate = datetime.strptime('1/1/2022 1:00:00', '%d/%m/%Y %H:%M:%S')\n",
    "        random.seed(20221603)\n",
    "          \n",
    "    # returns the name of a traded stock at random\n",
    "    def getStockName(self):\n",
    "        return random.choice(self.stockNames)\n",
    "\n",
    "    # returns the trade value of a transaction at random\n",
    "    def getTradeValue(self):\n",
    "        return round(random.uniform(self.minTradeValue, self.maxTradeValue), 2)\n",
    "    \n",
    "    # returns a list of N randomly generated transactions,\n",
    "    # where each transaction is represented as a list [stock name, price, quantity, timestamp]\n",
    "    # N : int\n",
    "    def generateTransactionData(self, N):   \n",
    "        listTransactions = [[]]*N\n",
    "        listDates = [self.startDate + timedelta(seconds=3*x) for x in range(0, N)]\n",
    "        listDatesFormatted = [x.strftime('%d/%m/%Y %H:%M:%S') for x in listDates]\n",
    "        for i in range(N):\n",
    "            stockName = random.choice(self.stockNames)\n",
    "            price = round(random.uniform(50.00, 100.00), 2)\n",
    "            quantity = random.randint(10,1000)\n",
    "            listTransactions[i] = [stockName, price, quantity, listDatesFormatted[i]]   \n",
    "        return listTransactions"
   ]
  },
  {
   "cell_type": "markdown",
   "metadata": {},
   "source": [
    "Use the cell below for the python code needed to realise your **experimental framework** (i.e., to generate test data, to instante the `StockTrading` class, to thorouhgly experiment with its API functions, and to experimentally measure their performance). You may use the previously provided ``TransactionDataGenerator`` class to generate random transaction data."
   ]
  },
  {
   "cell_type": "markdown",
   "metadata": {},
   "source": [
    "Different conditions\n",
    "1. sorted, reverse-sorted, randomly ordered\n",
    "2. number of records"
   ]
  },
  {
   "cell_type": "code",
   "execution_count": 33,
   "metadata": {
    "scrolled": true
   },
   "outputs": [],
   "source": [
    "import random\n",
    "import timeit\n",
    "\n",
    "# ADD YOUR EXPERIMENTAL FRAMEWORK CODE HERE\n",
    "platform = StockTradingPlatform()\n",
    "data_generator = TransactionDataGenerator()\n",
    "\n",
    "class Experiment:\n",
    "    def __init__(self, platform, data_generator, num_runs):\n",
    "        self.platform = platform\n",
    "        self.data_generator = data_generator\n",
    "        self.num_runs = num_runs\n",
    "\n",
    "    def generateTestData(self, num_records):\n",
    "        test_data = self.data_generator.generateTransactionData(num_records)\n",
    "        return test_data\n",
    "\n",
    "    def timeOperation(self, operation_name, num_runs, *args):\n",
    "        # test one operation\n",
    "        time = 0\n",
    "\n",
    "        for _ in range(num_runs):\n",
    "            operation = getattr(self.platform, operation_name)\n",
    "            starttime = timeit.default_timer()\n",
    "            operation(*args)\n",
    "            endtime = timeit.default_timer()\n",
    "            time += endtime-starttime\n",
    "\n",
    "        average_time = round((endtime-starttime)/num_runs,4)\n",
    "        # print(f\"\\nMean execution time for {operation_name}:\", average_time)\n",
    "        return average_time\n",
    "\n",
    "    def experimentByNumberOfRecords(self, num_records_list, operation_name, *args):\n",
    "        times = []\n",
    "        for num_records in num_records_list:\n",
    "            dataset = self.generateTestData(num_records)\n",
    "\n",
    "            if operation_name == \"logTransaction\":\n",
    "                time = self.timeOperation(\"loadData\", 1, dataset)\n",
    "            else:\n",
    "                self.platform.loadData(dataset)\n",
    "                time = self.timeOperation(operation_name, self.num_runs, *args)\n",
    "\n",
    "            times += time,\n",
    "\n",
    "        return times\n",
    "\n",
    "num_runs = 1\n",
    "num_records_list = [500, 1000, 2000]\n",
    "exp = Experiment(platform, data_generator, num_runs=num_runs)"
   ]
  },
  {
   "cell_type": "code",
   "execution_count": 26,
   "metadata": {},
   "outputs": [
    {
     "name": "stdout",
     "output_type": "stream",
     "text": [
      "\n",
      "Mean execution time for loadData: 0.0135\n",
      "\n",
      "Mean execution time for loadData: 0.0876\n",
      "\n",
      "Mean execution time for loadData: 0.4155\n"
     ]
    },
    {
     "data": {
      "text/plain": [
       "[0.0135, 0.0876, 0.4155]"
      ]
     },
     "execution_count": 26,
     "metadata": {},
     "output_type": "execute_result"
    }
   ],
   "source": [
    "stock_name = data_generator.getStockName()\n",
    "exp.experimentByNumberOfRecords(num_records_list, \"logTransaction\")\n",
    "# exp.experimentByNumberOfRecords(num_records_list, \"sortedTransactions\", stock_name)\n",
    "# exp.experimentByNumberOfRecords(num_records_list, \"minTransactions\", stock_name)\n",
    "# exp.experimentByNumberOfRecords(num_records_list, \"maxTransactions\", stock_name)\n",
    "# exp.experimentByNumberOfRecords(num_records_list, \"floorTransactions\", stock_name, data_generator.getTradeValue())\n",
    "# exp.experimentByNumberOfRecords(num_records_list, \"ceilingTransactions\", stock_name, data_generator.getTradeValue())"
   ]
  },
  {
   "cell_type": "markdown",
   "metadata": {},
   "source": [
    "- logTransaction\n",
    "- sortedTransactions\n",
    "- minTransactions\n",
    "- maxTransactions\n",
    "- floorTransactions\n",
    "- ceilingTransactions\n",
    "- rangeTransactions"
   ]
  },
  {
   "cell_type": "markdown",
   "metadata": {},
   "source": [
    "The cell below exemplifies **debug** code I will invoke on your submission - it does not represent an experimental framework (which should me much more comprehensive). **Do NOT modify it**. "
   ]
  },
  {
   "cell_type": "code",
   "execution_count": 21,
   "metadata": {},
   "outputs": [
    {
     "data": {
      "text/plain": [
       "'NatWest Group'"
      ]
     },
     "execution_count": 21,
     "metadata": {},
     "output_type": "execute_result"
    }
   ],
   "source": [
    "testDataGen = TransactionDataGenerator()\n",
    "testDataGen.getStockName()"
   ]
  },
  {
   "cell_type": "code",
   "execution_count": 28,
   "metadata": {},
   "outputs": [
    {
     "ename": "KeyboardInterrupt",
     "evalue": "",
     "output_type": "error",
     "traceback": [
      "\u001b[0;31m---------------------------------------------------------------------------\u001b[0m",
      "\u001b[0;31mKeyboardInterrupt\u001b[0m                         Traceback (most recent call last)",
      "\u001b[0;32m<ipython-input-28-1fbd076ca111>\u001b[0m in \u001b[0;36m<module>\u001b[0;34m\u001b[0m\n\u001b[1;32m      7\u001b[0m \u001b[0;34m\u001b[0m\u001b[0m\n\u001b[1;32m      8\u001b[0m \u001b[0mnumTransactions\u001b[0m \u001b[0;34m=\u001b[0m \u001b[0;36m1000000\u001b[0m\u001b[0;34m\u001b[0m\u001b[0;34m\u001b[0m\u001b[0m\n\u001b[0;32m----> 9\u001b[0;31m \u001b[0mtestData\u001b[0m \u001b[0;34m=\u001b[0m \u001b[0mtestDataGen\u001b[0m\u001b[0;34m.\u001b[0m\u001b[0mgenerateTransactionData\u001b[0m\u001b[0;34m(\u001b[0m\u001b[0mnumTransactions\u001b[0m\u001b[0;34m)\u001b[0m\u001b[0;34m\u001b[0m\u001b[0;34m\u001b[0m\u001b[0m\n\u001b[0m\u001b[1;32m     10\u001b[0m \u001b[0;34m\u001b[0m\u001b[0m\n\u001b[1;32m     11\u001b[0m \u001b[0mnumRuns\u001b[0m \u001b[0;34m=\u001b[0m \u001b[0;36m100\u001b[0m\u001b[0;34m\u001b[0m\u001b[0;34m\u001b[0m\u001b[0m\n",
      "\u001b[0;32m<ipython-input-22-fb5343514e69>\u001b[0m in \u001b[0;36mgenerateTransactionData\u001b[0;34m(self, N)\u001b[0m\n\u001b[1;32m     30\u001b[0m         \u001b[0mlistTransactions\u001b[0m \u001b[0;34m=\u001b[0m \u001b[0;34m[\u001b[0m\u001b[0;34m[\u001b[0m\u001b[0;34m]\u001b[0m\u001b[0;34m]\u001b[0m\u001b[0;34m*\u001b[0m\u001b[0mN\u001b[0m\u001b[0;34m\u001b[0m\u001b[0;34m\u001b[0m\u001b[0m\n\u001b[1;32m     31\u001b[0m         \u001b[0mlistDates\u001b[0m \u001b[0;34m=\u001b[0m \u001b[0;34m[\u001b[0m\u001b[0mself\u001b[0m\u001b[0;34m.\u001b[0m\u001b[0mstartDate\u001b[0m \u001b[0;34m+\u001b[0m \u001b[0mtimedelta\u001b[0m\u001b[0;34m(\u001b[0m\u001b[0mseconds\u001b[0m\u001b[0;34m=\u001b[0m\u001b[0;36m3\u001b[0m\u001b[0;34m*\u001b[0m\u001b[0mx\u001b[0m\u001b[0;34m)\u001b[0m \u001b[0;32mfor\u001b[0m \u001b[0mx\u001b[0m \u001b[0;32min\u001b[0m \u001b[0mrange\u001b[0m\u001b[0;34m(\u001b[0m\u001b[0;36m0\u001b[0m\u001b[0;34m,\u001b[0m \u001b[0mN\u001b[0m\u001b[0;34m)\u001b[0m\u001b[0;34m]\u001b[0m\u001b[0;34m\u001b[0m\u001b[0;34m\u001b[0m\u001b[0m\n\u001b[0;32m---> 32\u001b[0;31m         \u001b[0mlistDatesFormatted\u001b[0m \u001b[0;34m=\u001b[0m \u001b[0;34m[\u001b[0m\u001b[0mx\u001b[0m\u001b[0;34m.\u001b[0m\u001b[0mstrftime\u001b[0m\u001b[0;34m(\u001b[0m\u001b[0;34m'%d/%m/%Y %H:%M:%S'\u001b[0m\u001b[0;34m)\u001b[0m \u001b[0;32mfor\u001b[0m \u001b[0mx\u001b[0m \u001b[0;32min\u001b[0m \u001b[0mlistDates\u001b[0m\u001b[0;34m]\u001b[0m\u001b[0;34m\u001b[0m\u001b[0;34m\u001b[0m\u001b[0m\n\u001b[0m\u001b[1;32m     33\u001b[0m         \u001b[0;32mfor\u001b[0m \u001b[0mi\u001b[0m \u001b[0;32min\u001b[0m \u001b[0mrange\u001b[0m\u001b[0;34m(\u001b[0m\u001b[0mN\u001b[0m\u001b[0;34m)\u001b[0m\u001b[0;34m:\u001b[0m\u001b[0;34m\u001b[0m\u001b[0;34m\u001b[0m\u001b[0m\n\u001b[1;32m     34\u001b[0m             \u001b[0mstockName\u001b[0m \u001b[0;34m=\u001b[0m \u001b[0mrandom\u001b[0m\u001b[0;34m.\u001b[0m\u001b[0mchoice\u001b[0m\u001b[0;34m(\u001b[0m\u001b[0mself\u001b[0m\u001b[0;34m.\u001b[0m\u001b[0mstockNames\u001b[0m\u001b[0;34m)\u001b[0m\u001b[0;34m\u001b[0m\u001b[0;34m\u001b[0m\u001b[0m\n",
      "\u001b[0;32m<ipython-input-22-fb5343514e69>\u001b[0m in \u001b[0;36m<listcomp>\u001b[0;34m(.0)\u001b[0m\n\u001b[1;32m     30\u001b[0m         \u001b[0mlistTransactions\u001b[0m \u001b[0;34m=\u001b[0m \u001b[0;34m[\u001b[0m\u001b[0;34m[\u001b[0m\u001b[0;34m]\u001b[0m\u001b[0;34m]\u001b[0m\u001b[0;34m*\u001b[0m\u001b[0mN\u001b[0m\u001b[0;34m\u001b[0m\u001b[0;34m\u001b[0m\u001b[0m\n\u001b[1;32m     31\u001b[0m         \u001b[0mlistDates\u001b[0m \u001b[0;34m=\u001b[0m \u001b[0;34m[\u001b[0m\u001b[0mself\u001b[0m\u001b[0;34m.\u001b[0m\u001b[0mstartDate\u001b[0m \u001b[0;34m+\u001b[0m \u001b[0mtimedelta\u001b[0m\u001b[0;34m(\u001b[0m\u001b[0mseconds\u001b[0m\u001b[0;34m=\u001b[0m\u001b[0;36m3\u001b[0m\u001b[0;34m*\u001b[0m\u001b[0mx\u001b[0m\u001b[0;34m)\u001b[0m \u001b[0;32mfor\u001b[0m \u001b[0mx\u001b[0m \u001b[0;32min\u001b[0m \u001b[0mrange\u001b[0m\u001b[0;34m(\u001b[0m\u001b[0;36m0\u001b[0m\u001b[0;34m,\u001b[0m \u001b[0mN\u001b[0m\u001b[0;34m)\u001b[0m\u001b[0;34m]\u001b[0m\u001b[0;34m\u001b[0m\u001b[0;34m\u001b[0m\u001b[0m\n\u001b[0;32m---> 32\u001b[0;31m         \u001b[0mlistDatesFormatted\u001b[0m \u001b[0;34m=\u001b[0m \u001b[0;34m[\u001b[0m\u001b[0mx\u001b[0m\u001b[0;34m.\u001b[0m\u001b[0mstrftime\u001b[0m\u001b[0;34m(\u001b[0m\u001b[0;34m'%d/%m/%Y %H:%M:%S'\u001b[0m\u001b[0;34m)\u001b[0m \u001b[0;32mfor\u001b[0m \u001b[0mx\u001b[0m \u001b[0;32min\u001b[0m \u001b[0mlistDates\u001b[0m\u001b[0;34m]\u001b[0m\u001b[0;34m\u001b[0m\u001b[0;34m\u001b[0m\u001b[0m\n\u001b[0m\u001b[1;32m     33\u001b[0m         \u001b[0;32mfor\u001b[0m \u001b[0mi\u001b[0m \u001b[0;32min\u001b[0m \u001b[0mrange\u001b[0m\u001b[0;34m(\u001b[0m\u001b[0mN\u001b[0m\u001b[0;34m)\u001b[0m\u001b[0;34m:\u001b[0m\u001b[0;34m\u001b[0m\u001b[0;34m\u001b[0m\u001b[0m\n\u001b[1;32m     34\u001b[0m             \u001b[0mstockName\u001b[0m \u001b[0;34m=\u001b[0m \u001b[0mrandom\u001b[0m\u001b[0;34m.\u001b[0m\u001b[0mchoice\u001b[0m\u001b[0;34m(\u001b[0m\u001b[0mself\u001b[0m\u001b[0;34m.\u001b[0m\u001b[0mstockNames\u001b[0m\u001b[0;34m)\u001b[0m\u001b[0;34m\u001b[0m\u001b[0;34m\u001b[0m\u001b[0m\n",
      "\u001b[0;31mKeyboardInterrupt\u001b[0m: "
     ]
    }
   ],
   "source": [
    "# DO NOT MODIFY THIS CELL\n",
    "\n",
    "import timeit\n",
    "\n",
    "testPlatform = StockTradingPlatform()\n",
    "testDataGen = TransactionDataGenerator()\n",
    "\n",
    "numTransactions = 1000000\n",
    "testData = testDataGen.generateTransactionData(numTransactions)\n",
    "\n",
    "numRuns = 100\n",
    "\n",
    "print(\"Examples of transactions:\", testData[0], testData[numTransactions//2], testData[numTransactions-1])\n",
    "\n",
    "#\n",
    "# testing the logTransaction() API \n",
    "#\n",
    "starttime = timeit.default_timer()\n",
    "for i in range(numTransactions):\n",
    "    testPlatform.logTransaction(testData[i])\n",
    "endtime = timeit.default_timer()\n",
    "print(\"\\nExecution time to load\", numTransactions, \"transactions:\", round(endtime-starttime,4))\n",
    "\n",
    "#\n",
    "# testing the various API functions\n",
    "#\n",
    "starttime = timeit.default_timer()\n",
    "for i in range(numRuns):\n",
    "    output = testPlatform.sortedTransactions(testDataGen.getStockName())\n",
    "endtime = timeit.default_timer()\n",
    "print(\"\\nMean execution time sortedTransactions:\", round((endtime-starttime)/numRuns,4))\n",
    "\n",
    "starttime = timeit.default_timer()\n",
    "for i in range(numRuns):\n",
    "    output = testPlatform.minTransactions(testDataGen.getStockName())\n",
    "endtime = timeit.default_timer()\n",
    "print(\"\\nMean execution time minTransactions:\", round((endtime-starttime)/numRuns,4))\n",
    "\n",
    "starttime = timeit.default_timer()\n",
    "for i in range(numRuns):\n",
    "    output = testPlatform.maxTransactions(testDataGen.getStockName())\n",
    "endtime = timeit.default_timer()\n",
    "print(\"\\nMean execution time maxTransactions:\", round((endtime-starttime)/numRuns,4))\n",
    "\n",
    "\n",
    "starttime = timeit.default_timer()\n",
    "for i in range(numRuns):\n",
    "    output = testPlatform.floorTransactions(testDataGen.getStockName(), testDataGen.getTradeValue())\n",
    "endtime = timeit.default_timer()\n",
    "print(\"\\nMean execution time floorTransactions:\", round((endtime-starttime)/numRuns,4))\n",
    "\n",
    "\n",
    "starttime = timeit.default_timer()\n",
    "for i in range(numRuns):\n",
    "    output = testPlatform.ceilingTransactions(testDataGen.getStockName(), testDataGen.getTradeValue())\n",
    "endtime = timeit.default_timer()\n",
    "print(\"\\nMean execution time ceilingTransactions:\", round((endtime-starttime)/numRuns,4))\n",
    "\n",
    "\n",
    "starttime = timeit.default_timer()\n",
    "for i in range(numRuns):\n",
    "    rangeValues = sorted([testDataGen.getTradeValue(), testDataGen.getTradeValue()])\n",
    "    output = testPlatform.rangeTransactions(testDataGen.getStockName(), rangeValues[0], rangeValues[1])\n",
    "endtime = timeit.default_timer()\n",
    "print(\"\\nMean execution time rangeTransactions:\", round((endtime-starttime)/numRuns,4))"
   ]
  },
  {
   "cell_type": "markdown",
   "metadata": {},
   "source": [
    "### Graph"
   ]
  },
  {
   "cell_type": "code",
   "execution_count": 13,
   "metadata": {},
   "outputs": [],
   "source": [
    "import matplotlib.pyplot as plt"
   ]
  },
  {
   "cell_type": "code",
   "execution_count": 34,
   "metadata": {},
   "outputs": [],
   "source": [
    "# num_runs = 1\n",
    "num_records_list = list(range(10, 100, 10))\n",
    "exp = Experiment(platform, data_generator, num_runs=num_runs)\n",
    "\n",
    "stock_name = data_generator.getStockName()\n",
    "\n",
    "def drawGraph(num_records_list, times):\n",
    "    plt.scatter(num_records_list, times)\n",
    "    plt.show()\n"
   ]
  },
  {
   "cell_type": "code",
   "execution_count": 35,
   "metadata": {},
   "outputs": [
    {
     "data": {
      "image/png": "[encoded data removed]",
      "text/plain": [
       "<Figure size 432x288 with 1 Axes>"
      ]
     },
     "metadata": {
      "needs_background": "light"
     },
     "output_type": "display_data"
    }
   ],
   "source": [
    "times = exp.experimentByNumberOfRecords(num_records_list, \"logTransaction\")\n",
    "\n",
    "drawGraph(num_records_list, times)"
   ]
  },
  {
   "cell_type": "code",
   "execution_count": 36,
   "metadata": {},
   "outputs": [
    {
     "data": {
      "image/png": "[encoded data removed]",
      "text/plain": [
       "<Figure size 432x288 with 1 Axes>"
      ]
     },
     "metadata": {
      "needs_background": "light"
     },
     "output_type": "display_data"
    }
   ],
   "source": [
    "times = exp.experimentByNumberOfRecords(num_records_list, \"sortedTransactions\", stock_name)\n",
    "\n",
    "drawGraph(num_records_list, times)"
   ]
  },
  {
   "cell_type": "code",
   "execution_count": 38,
   "metadata": {},
   "outputs": [
    {
     "data": {
      "image/png": "[encoded data removed]",
      "text/plain": [
       "<Figure size 432x288 with 1 Axes>"
      ]
     },
     "metadata": {
      "needs_background": "light"
     },
     "output_type": "display_data"
    }
   ],
   "source": [
    "times = exp.experimentByNumberOfRecords(num_records_list, \"minTransactions\", stock_name)\n",
    "drawGraph(num_records_list, times)"
   ]
  },
  {
   "cell_type": "code",
   "execution_count": 39,
   "metadata": {},
   "outputs": [
    {
     "data": {
      "image/png": "[encoded data removed]",
      "text/plain": [
       "<Figure size 432x288 with 1 Axes>"
      ]
     },
     "metadata": {
      "needs_background": "light"
     },
     "output_type": "display_data"
    }
   ],
   "source": [
    "times = exp.experimentByNumberOfRecords(num_records_list, \"maxTransactions\", stock_name)\n",
    "drawGraph(num_records_list, times)"
   ]
  },
  {
   "cell_type": "code",
   "execution_count": 40,
   "metadata": {},
   "outputs": [
    {
     "data": {
      "image/png": "[encoded data removed]",
      "text/plain": [
       "<Figure size 432x288 with 1 Axes>"
      ]
     },
     "metadata": {
      "needs_background": "light"
     },
     "output_type": "display_data"
    }
   ],
   "source": [
    "times = exp.experimentByNumberOfRecords(num_records_list, \"floorTransactions\", stock_name, data_generator.getTradeValue())\n",
    "drawGraph(num_records_list, times)"
   ]
  },
  {
   "cell_type": "code",
   "execution_count": 41,
   "metadata": {},
   "outputs": [
    {
     "data": {
      "image/png": "[encoded data removed]",
      "text/plain": [
       "<Figure size 432x288 with 1 Axes>"
      ]
     },
     "metadata": {
      "needs_background": "light"
     },
     "output_type": "display_data"
    }
   ],
   "source": [
    "times = exp.experimentByNumberOfRecords(num_records_list, \"ceilingTransactions\", stock_name, data_generator.getTradeValue())\n",
    "drawGraph(num_records_list, times)"
   ]
  }
 ],
 "metadata": {
  "kernelspec": {
   "display_name": "tf2",
   "language": "python",
   "name": "tf2"
  },
  "language_info": {
   "codemirror_mode": {
    "name": "ipython",
    "version": 3
   },
   "file_extension": ".py",
   "mimetype": "text/x-python",
   "name": "python",
   "nbconvert_exporter": "python",
   "pygments_lexer": "ipython3",
   "version": "3.8.12"
  }
 },
 "nbformat": 4,
 "nbformat_minor": 4
}
